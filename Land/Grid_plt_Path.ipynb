{
 "cells": [
  {
   "cell_type": "code",
   "execution_count": 1,
   "id": "f75b551c-75bc-44d5-8125-7a0977d0441d",
   "metadata": {},
   "outputs": [],
   "source": [
    "import pandas as pd\n",
    "import matplotlib.pyplot as plt\n",
    "\n",
    "import numpy as np\n",
    "\n",
    "from matplotlib.path import Path"
   ]
  },
  {
   "cell_type": "code",
   "execution_count": 2,
   "id": "c590fff0-3f48-4977-a357-9ba326bf44b2",
   "metadata": {},
   "outputs": [
    {
     "name": "stdout",
     "output_type": "stream",
     "text": [
      "   Number   Latitude  Longitude    Altitude\n",
      "0       1  55.689156  -4.358035  252.099340\n",
      "1       2  55.686629  -4.351856  252.848013\n",
      "2       3  55.695239  -4.363345  246.184076\n",
      "3       4  55.693418  -4.355582  253.050163\n",
      "4       5  55.685945  -4.341407  253.846623\n"
     ]
    }
   ],
   "source": [
    "# Read File\n",
    "df = pd.read_excel('Data/Turbines_At_Whitelee_Wind_Farm.xlsx')\n",
    "\n",
    "# Print the Contents of the Excel File to Check the Data\n",
    "print(df.head())"
   ]
  },
  {
   "cell_type": "code",
   "execution_count": 3,
   "id": "5c7e1945-8b68-4972-a8e8-63eab3d941f2",
   "metadata": {},
   "outputs": [],
   "source": [
    "# Extract latitude and longitude\n",
    "latitudes = df['Latitude']\n",
    "longitudes = df['Longitude']\n",
    "\n",
    "# Define the Grid Size\n",
    "grid_rows = 58\n",
    "grid_cols = 73\n",
    "\n",
    "# Calculate the Range of Latitude and Longitude\n",
    "lat_min, lat_max = latitudes.min(), latitudes.max()\n",
    "lon_min, lon_max = longitudes.min(), longitudes.max()\n",
    "\n",
    "# Create an Empty Grid\n",
    "grid = np.zeros((grid_rows, grid_cols), dtype=int)\n",
    "\n",
    "# Populate the Grid\n",
    "for lat, lon in zip(latitudes, longitudes):\n",
    "    # Calculate the row and column indices for each turbine\n",
    "    row_idx = int((lat - lat_min) / (lat_max - lat_min) * (grid_rows - 1))\n",
    "    col_idx = int((lon - lon_min) / (lon_max - lon_min) * (grid_cols - 1))\n",
    "    \n",
    "    # Reverse row index to correct y-axis inversion\n",
    "    row_idx = grid_rows - 1 - row_idx\n",
    "    \n",
    "    # Ensure indices are within bounds\n",
    "    row_idx = min(max(row_idx, 0), grid_rows - 1)\n",
    "    col_idx = min(max(col_idx, 0), grid_cols - 1)\n",
    "    \n",
    "    grid[row_idx, col_idx] = 1\n",
    "\n",
    "# Convert the grid to a DataFrame for better visualisation (optional)\n",
    "grid_df = pd.DataFrame(grid)\n"
   ]
  },
  {
   "cell_type": "code",
   "execution_count": 4,
   "id": "8be4f3d9-1df3-4a87-b334-b00b1021ad9c",
   "metadata": {},
   "outputs": [
    {
     "data": {
      "image/png": "[encoded data removed]",
      "text/plain": [
       "<Figure size 640x480 with 1 Axes>"
      ]
     },
     "metadata": {},
     "output_type": "display_data"
    }
   ],
   "source": [
    "# Create a colour map\n",
    "color_map = np.zeros((*grid_df.shape, 3)) \n",
    "\n",
    "# Set colour\n",
    "color_map[grid_df == 1] = [0, 0, 1]  # Blue\n",
    "color_map[grid_df == 2] = [1, 0, 0]  # Red\n",
    "color_map[grid_df == 0] = [1, 1, 1]  # White\n",
    "\n",
    "#Draw the matrix\n",
    "plt.imshow(color_map, interpolation='nearest')\n",
    "plt.axis('off')  # Close Axis\n",
    "plt.show()"
   ]
  },
  {
   "cell_type": "code",
   "execution_count": 5,
   "id": "63dc70b3-7be0-4289-82bc-86096046041e",
   "metadata": {},
   "outputs": [
    {
     "name": "stdout",
     "output_type": "stream",
     "text": [
      "   Lake1_Point  Lake1_Latitude  Lake1_Longitude  Lake1_Altitude  Lake2_Point  \\\n",
      "0          1.0       55.705384        -4.326942      264.847931          1.0   \n",
      "1          2.0       55.704446        -4.330011      263.962545          2.0   \n",
      "2          3.0       55.704031        -4.330942      264.317414          3.0   \n",
      "3          4.0       55.703462        -4.331779      263.918289          4.0   \n",
      "4          5.0       55.702923        -4.332861      263.832656          5.0   \n",
      "\n",
      "   Lake2_Latitude  Lake2_Longitude  Lake2_Altitude  Lake3_Point  \\\n",
      "0       55.714657        -4.307161      248.679583            1   \n",
      "1       55.714233        -4.307401      248.599656            2   \n",
      "2       55.714272        -4.307726      248.599717            3   \n",
      "3       55.713914        -4.308118      248.693421            4   \n",
      "4       55.713545        -4.308617      248.947010            5   \n",
      "\n",
      "   Lake3_Latitude  Lake3_Longitude  Lake3_Altitude  \\\n",
      "0       55.679592        -4.350613      246.506081   \n",
      "1       55.680022        -4.348252      247.172203   \n",
      "2       55.681025        -4.347501      247.192278   \n",
      "3       55.681923        -4.346312      246.497378   \n",
      "4       55.682445        -4.344682      246.497610   \n",
      "\n",
      "                                   Other Description  \n",
      "0  https://developers.google.com/kml/documentatio...  \n",
      "1                    default settings: clampToGround  \n",
      "2                                                NaN  \n",
      "3                                                NaN  \n",
      "4                                                NaN  \n"
     ]
    }
   ],
   "source": [
    "lake_df = pd.read_csv('Data/Lake_Boundary.csv')\n",
    "\n",
    "# Print the contents of the Excel file to check the data\n",
    "print(lake_df.head())"
   ]
  },
  {
   "cell_type": "code",
   "execution_count": 6,
   "id": "1b294e71-890b-42b7-aeef-b0ef9711593d",
   "metadata": {},
   "outputs": [
    {
     "name": "stdout",
     "output_type": "stream",
     "text": [
      "Vertices Number of Lake 1: 64\n",
      "Vertices Number of Lake 2: 33\n",
      "Vertices Number of Lake 3: 72\n"
     ]
    }
   ],
   "source": [
    "# Coordinates of the vertices of the lake polygon (latitude and longitude)\n",
    "lake1_coords = list(zip(lake_df['Lake1_Latitude'].dropna(), lake_df['Lake1_Longitude'].dropna()))\n",
    "lake2_coords = list(zip(lake_df['Lake2_Latitude'].dropna(), lake_df['Lake2_Longitude'].dropna()))\n",
    "lake3_coords = list(zip(lake_df['Lake3_Latitude'].dropna(), lake_df['Lake3_Longitude'].dropna()))\n",
    "\n",
    "# View the number of vertices in each lake coordinate list\n",
    "print(\"Vertices Number of Lake 1:\", len(lake1_coords))\n",
    "print(\"Vertices Number of Lake 2:\", len(lake2_coords))\n",
    "print(\"Vertices Number of Lake 3:\", len(lake3_coords))\n",
    "\n",
    "# Create polygonal paths\n",
    "lake_path1 = Path(lake1_coords)\n",
    "lake_path2 = Path(lake2_coords)\n",
    "lake_path3 = Path(lake3_coords)"
   ]
  },
  {
   "cell_type": "code",
   "execution_count": 7,
   "id": "79c19837-b27d-4c4f-a889-6dc2be1a5dde",
   "metadata": {},
   "outputs": [
    {
     "data": {
      "image/png": "[encoded data removed]",
      "text/plain": [
       "<Figure size 1000x600 with 1 Axes>"
      ]
     },
     "metadata": {},
     "output_type": "display_data"
    }
   ],
   "source": [
    "# Visualisation\n",
    "plt.figure(figsize=(10, 6))\n",
    "\n",
    "# Draw lake polygons\n",
    "if len(lake1_coords) > 0:\n",
    "    lake1 = np.array(lake1_coords)\n",
    "    plt.fill(lake1[:, 1], lake1[:, 0], color='blue', alpha=0.5, label='Lake 1')\n",
    "    \n",
    "if len(lake2_coords) > 0:\n",
    "    lake2 = np.array(lake2_coords)\n",
    "    plt.fill(lake2[:, 1], lake2[:, 0], color='green', alpha=0.5, label='Lake 2')\n",
    "    \n",
    "if len(lake3_coords) > 0:\n",
    "    lake3 = np.array(lake3_coords)\n",
    "    plt.fill(lake3[:, 1], lake3[:, 0], color='red', alpha=0.5, label='Lake 3')\n",
    "\n",
    "# Set up axis labels and legends\n",
    "plt.xlabel('Longitude')\n",
    "plt.ylabel('Latitude')\n",
    "plt.title('Lake Boundaries')\n",
    "plt.legend()\n",
    "plt.grid()\n",
    "plt.xlim(lon_min, lon_max) \n",
    "plt.ylim(lat_min, lat_max) \n",
    "plt.gca().set_aspect('equal', adjustable='box') \n",
    "plt.show()"
   ]
  },
  {
   "cell_type": "code",
   "execution_count": 8,
   "id": "8a6cf992-01a0-4f88-b3e5-cf0e617e53ed",
   "metadata": {},
   "outputs": [
    {
     "name": "stdout",
     "output_type": "stream",
     "text": [
      "55.6350646 55.7140006\n",
      "-4.3633451 -4.1843088\n",
      "0.0013848421052631366 0.0024866152777777767\n"
     ]
    }
   ],
   "source": [
    "lat_step = (lat_max - lat_min) / (grid_rows - 1)\n",
    "lon_step = (lon_max - lon_min) / (grid_cols - 1)\n",
    "\n",
    "print(lat_min,lat_max)\n",
    "print(lon_min,lon_max)\n",
    "print(lat_step,lon_step)"
   ]
  },
  {
   "cell_type": "code",
   "execution_count": 9,
   "id": "baf8f221-b263-4ccc-b097-62ae71e6a2b6",
   "metadata": {},
   "outputs": [
    {
     "name": "stdout",
     "output_type": "stream",
     "text": [
      "1\n"
     ]
    }
   ],
   "source": [
    "if(lake_path2.contains_point((55.7140006, -4.3071606))):\n",
    "    print(1)"
   ]
  },
  {
   "cell_type": "code",
   "execution_count": 10,
   "id": "32ba47fb-5916-4289-a687-77be5ae55d22",
   "metadata": {},
   "outputs": [],
   "source": [
    "if(lake_path2.contains_point((55.6350646, -4.3071606))):\n",
    "    print(1)"
   ]
  },
  {
   "cell_type": "code",
   "execution_count": 11,
   "id": "4cd8d02e-b385-453b-8131-0f5dda40a2e2",
   "metadata": {},
   "outputs": [],
   "source": [
    "for i in range(grid_rows):\n",
    "    for j in range(grid_cols):\n",
    "        lat = lat_max - i * lat_step\n",
    "        lon = lon_min + j * lon_step\n",
    "        \n",
    "        # Check if the current point is inside any of the lake polygons\n",
    "        if (lake_path1.contains_point((lat, lon)) or\n",
    "            lake_path2.contains_point((lat, lon)) or\n",
    "            lake_path3.contains_point((lat, lon))):\n",
    "            grid_df[j][i] = 2  "
   ]
  },
  {
   "cell_type": "code",
   "execution_count": 12,
   "id": "39d1b112-a075-4ced-b5b9-f860d174886a",
   "metadata": {},
   "outputs": [],
   "source": [
    "grid_df.to_csv(\"Grid_Turbines_Unavailable_Cells.csv\", index=False, header=False)"
   ]
  },
  {
   "cell_type": "code",
   "execution_count": 13,
   "id": "46f5eff8-3b7d-45f2-a127-9e3bc4d59eff",
   "metadata": {},
   "outputs": [
    {
     "data": {
      "image/png": "[encoded data removed]",
      "text/plain": [
       "<Figure size 640x480 with 1 Axes>"
      ]
     },
     "metadata": {},
     "output_type": "display_data"
    }
   ],
   "source": [
    "# Create a colour map\n",
    "color_map = np.zeros((*grid_df.shape, 3)) \n",
    "\n",
    "# Set colour\n",
    "color_map[grid_df == 1] = [0, 0, 1]  # Blue\n",
    "color_map[grid_df == 2] = [1, 0, 0]  # Red\n",
    "color_map[grid_df == 0] = [1, 1, 1]  # White\n",
    "\n",
    "#Draw the matrix\n",
    "plt.imshow(color_map, interpolation='nearest')\n",
    "plt.axis('off')  # Close Axis\n",
    "plt.show()"
   ]
  },
  {
   "cell_type": "code",
   "execution_count": null,
   "id": "de4852c1-8b78-4943-8405-a67afcb16f20",
   "metadata": {},
   "outputs": [],
   "source": []
  }
 ],
 "metadata": {
  "kernelspec": {
   "display_name": "Python 3 (ipykernel)",
   "language": "python",
   "name": "python3"
  },
  "language_info": {
   "codemirror_mode": {
    "name": "ipython",
    "version": 3
   },
   "file_extension": ".py",
   "mimetype": "text/x-python",
   "name": "python",
   "nbconvert_exporter": "python",
   "pygments_lexer": "ipython3",
   "version": "3.11.5"
  }
 },
 "nbformat": 4,
 "nbformat_minor": 5
}
